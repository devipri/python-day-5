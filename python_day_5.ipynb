{
  "nbformat": 4,
  "nbformat_minor": 0,
  "metadata": {
    "colab": {
      "name": "python day 5.ipynb",
      "provenance": [],
      "collapsed_sections": [],
      "authorship_tag": "ABX9TyOfsIBtneW9y6gN3wMWw7t/",
      "include_colab_link": true
    },
    "kernelspec": {
      "name": "python3",
      "display_name": "Python 3"
    }
  },
  "cells": [
    {
      "cell_type": "markdown",
      "metadata": {
        "id": "view-in-github",
        "colab_type": "text"
      },
      "source": [
        "<a href=\"https://colab.research.google.com/github/devipri/python-day-5/blob/master/python_day_5.ipynb\" target=\"_parent\"><img src=\"https://colab.research.google.com/assets/colab-badge.svg\" alt=\"Open In Colab\"/></a>"
      ]
    },
    {
      "cell_type": "code",
      "metadata": {
        "id": "604sySPnGSxi",
        "colab_type": "code",
        "colab": {
          "base_uri": "https://localhost:8080/",
          "height": 34
        },
        "outputId": "8d6c970f-0bc8-4683-ad17-a025dd591d81"
      },
      "source": [
        "#Assignment qn.no:1 :\n",
        "\n",
        "list1=[0,1,2,10,4,1,0,56,2,0,1,3,0,56,0,4]              #given list of integers\n",
        "list1.sort()                      \n",
        "list2=[0]\n",
        "c=list1.count(0)\n",
        "list2=list2*c\n",
        "list1=[i for i in list1 if i != 0]\n",
        "print(\"The sorted list:\",list1+list2)"
      ],
      "execution_count": null,
      "outputs": [
        {
          "output_type": "stream",
          "text": [
            "The sorted list: [1, 1, 1, 2, 2, 3, 4, 4, 10, 56, 56, 0, 0, 0, 0, 0]\n"
          ],
          "name": "stdout"
        }
      ]
    },
    {
      "cell_type": "code",
      "metadata": {
        "id": "olbEVFsFcYyR",
        "colab_type": "code",
        "colab": {
          "base_uri": "https://localhost:8080/",
          "height": 34
        },
        "outputId": "28ab0c2c-2ff6-4070-a42e-fbe269068699"
      },
      "source": [
        "#ASSIGNMENT QN.NO 2:\n",
        "\n",
        "list1=[10,20,40,60,70,80]\n",
        "list2=[5,15,25,35,45,60]\n",
        "list3=list1+list2\n",
        "list4=[]\n",
        "for i in range(0,len(list3)):\n",
        "  list4.append(min(list3))\n",
        "  list3.remove(min(list3))\n",
        "print(\"The sorted list:\",list4)\n"
      ],
      "execution_count": 73,
      "outputs": [
        {
          "output_type": "stream",
          "text": [
            "The sorted list: [5, 10, 15, 20, 25, 35, 40, 45, 60, 60, 70, 80]\n"
          ],
          "name": "stdout"
        }
      ]
    }
  ]
}